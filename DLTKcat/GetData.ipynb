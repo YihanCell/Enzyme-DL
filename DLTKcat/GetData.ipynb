{
 "cells": [
  {
   "cell_type": "code",
   "execution_count": 18,
   "id": "initial_id",
   "metadata": {
    "collapsed": true,
    "ExecuteTime": {
     "end_time": "2023-10-11T02:35:26.238964Z",
     "start_time": "2023-10-11T02:35:26.236535Z"
    }
   },
   "outputs": [],
   "source": [
    "import requests\n",
    "import numpy as np\n",
    "import pandas as pd\n",
    "from pubchempy import Compound, get_compounds\n",
    "from matplotlib import pyplot as plt\n",
    "import seaborn as sns\n",
    "from urllib import request\n",
    "from brendapyrser import BRENDA\n",
    "import html\n",
    "import pickle\n",
    "from math import exp\n",
    "import random\n",
    "import re\n",
    "from rdkit.Chem import AllChem\n",
    "from rdkit.Chem import DataStructs\n",
    "import requests\n",
    "import time\n",
    "from requests.adapters import HTTPAdapter\n",
    "from urllib3.util.retry import Retry"
   ]
  },
  {
   "cell_type": "code",
   "execution_count": 2,
   "id": "da962570bb7fdf45",
   "metadata": {
    "ExecuteTime": {
     "end_time": "2023-10-10T09:07:58.198538Z",
     "start_time": "2023-10-10T09:07:45.019977Z"
    }
   },
   "outputs": [],
   "source": [
    "brenda = BRENDA('../local_data/brenda_2023_1.txt')"
   ]
  },
  {
   "cell_type": "code",
   "execution_count": 3,
   "id": "8dc4ff04742b5259",
   "metadata": {
    "ExecuteTime": {
     "end_time": "2023-10-10T09:07:58.205053Z",
     "start_time": "2023-10-10T09:07:58.202202Z"
    }
   },
   "outputs": [],
   "source": [
    "def get_smiles(substrate):\n",
    "    try :\n",
    "        url = 'https://pubchem.ncbi.nlm.nih.gov/rest/pug/compound/name/%s/property/CanonicalSMILES/TXT'%substrate\n",
    "        req = requests.get(url, timeout=20)\n",
    "        if req.status_code != 200:\n",
    "            smiles = 'NaN'\n",
    "        else:\n",
    "            smiles = req.content.splitlines()[0].decode()\n",
    "    except :\n",
    "        smiles = 'NaN'\n",
    "    return smiles\n",
    "\n",
    "def get_seq(ID):\n",
    "    url = \"https://www.uniprot.org/uniprot/%s.fasta\" % ID\n",
    "    try :\n",
    "        data = requests.get(url, timeout=20)\n",
    "        if data.status_code != 200:\n",
    "            seq = 'NaN'\n",
    "        else:\n",
    "            seq =  \"\".join(data.text.split(\"\\n\")[1:])\n",
    "    except :\n",
    "        seq = 'NaN'\n",
    "    return seq\n",
    "\n",
    "def check_mutations(seq, mut_list):\n",
    "    no_error = True\n",
    "    for mut in mut_list:\n",
    "        ind = int(mut[1:-1])-1\n",
    "        old = mut[0].upper()\n",
    "        if (ind > len(seq)-1) or (seq[ind] != old):\n",
    "            no_error = False\n",
    "            break\n",
    "    return no_error\n",
    "\n",
    "def apply_mutations(seq, mut_list):\n",
    "    mut_seq = seq\n",
    "    for mut in mut_list:\n",
    "        ind = int(mut[1:-1])-1\n",
    "        new = mut[-1].upper()\n",
    "        temp_list = list(mut_seq)\n",
    "        temp_list[ind] = new\n",
    "        mut_seq = ''.join(temp_list)\n",
    "    return mut_seq"
   ]
  },
  {
   "cell_type": "code",
   "execution_count": 4,
   "id": "68ce0227a393f91b",
   "metadata": {
    "ExecuteTime": {
     "end_time": "2023-10-10T09:07:58.219659Z",
     "start_time": "2023-10-10T09:07:58.213885Z"
    }
   },
   "outputs": [
    {
     "name": "stdout",
     "output_type": "stream",
     "text": [
      "7832\n"
     ]
    }
   ],
   "source": [
    "brenda_ec_list = []\n",
    "for rxn in brenda.reactions:\n",
    "    brenda_ec_list.append( rxn.ec_number )\n",
    "brenda_ec_list = list(set(brenda_ec_list))\n",
    "print(len(brenda_ec_list))"
   ]
  },
  {
   "cell_type": "code",
   "execution_count": 5,
   "id": "8117722b645184c7",
   "metadata": {
    "ExecuteTime": {
     "end_time": "2023-10-10T09:07:58.263926Z",
     "start_time": "2023-10-10T09:07:58.217597Z"
    }
   },
   "outputs": [
    {
     "name": "stdout",
     "output_type": "stream",
     "text": [
      "8226\n"
     ]
    }
   ],
   "source": [
    "QUERY_URL = 'http://sabiork.h-its.org/sabioRestWebServices/kineticlawsExportTsv'\n",
    "\n",
    "with open('../local_data/enzyme.dat', 'r') as outfile :\n",
    "    lines = outfile.readlines()\n",
    "\n",
    "ec_list = []\n",
    "for line in lines :\n",
    "    if line.startswith('ID') :\n",
    "        ec = line.strip().split('  ')[1]\n",
    "        ec_list.append(ec.strip())\n",
    "# print(ec_list)\n",
    "print(len(ec_list))"
   ]
  },
  {
   "cell_type": "markdown",
   "id": "abac9ecf7b6a9df8",
   "metadata": {},
   "source": [
    "### Download kcat from Brenda"
   ]
  },
  {
   "cell_type": "code",
   "execution_count": 6,
   "id": "c71f7a5f038f941c",
   "metadata": {
    "ExecuteTime": {
     "end_time": "2023-10-10T09:07:58.272371Z",
     "start_time": "2023-10-10T09:07:58.268616Z"
    }
   },
   "outputs": [],
   "source": [
    "def get_entry_kcat( ec ):\n",
    "    r = brenda.reactions.get_by_id(ec)\n",
    "    all_data = r.Kcatvalues\n",
    "    result = []\n",
    "    for sub in all_data.keys():\n",
    "        sub_data = all_data[sub]\n",
    "        for entry in sub_data:\n",
    "            if ('Â°C' not in entry['meta'] ) or ( '#' not in entry['meta']) \\\n",
    "                    or (';' in entry['meta']) or ('specified' in entry['meta'] ):\n",
    "                continue\n",
    "            else:\n",
    "                value = entry['value']\n",
    "                temperature = html.unescape( entry['meta'].split('Â°C')[0] ) [-2:]\n",
    "                try :\n",
    "                    temperature = float(temperature)\n",
    "                except:\n",
    "                    continue\n",
    "\n",
    "                if 'mutant' not in entry['meta']:\n",
    "                    enz_type = 'WT'\n",
    "                    mutation = 'None'\n",
    "                else:\n",
    "                    mut4 = re.findall('[A-Z][0-9][0-9][0-9][0-9][A-Z]',entry['meta'])\n",
    "                    mut3 = re.findall('[A-Z][0-9][0-9][0-9][A-Z]',entry['meta'])\n",
    "                    mut2 = re.findall('[A-Z][0-9][0-9][A-Z]',entry['meta'])\n",
    "                    mut1 = re.findall('[A-Z][0-9][A-Z]',entry['meta'])\n",
    "                    mut_list = mut4 + mut3 + mut2 + mut1\n",
    "                    if len(mut_list) < 1:\n",
    "                        continue\n",
    "                    else:\n",
    "                        enz_type = 'MUT'\n",
    "                        mutation = '/'.join(mut_list)\n",
    "\n",
    "                p_ref = entry['meta'].split('#')[1].strip()\n",
    "                if ',' in p_ref:\n",
    "                    p_ref_list = p_ref.split(',')\n",
    "                else:\n",
    "                    p_ref_list = [ p_ref ]\n",
    "                p_ids = []\n",
    "                for ref in p_ref_list:\n",
    "                    p_ids.append( r.proteins[ref]['proteinID']  )\n",
    "\n",
    "                for p_id in p_ids:\n",
    "                    if p_id == '':\n",
    "                        continue\n",
    "                    else:\n",
    "                        result.append( {'EC':ec,'temperature':float(temperature),'sub': sub,\n",
    "                                        'UniProtID':p_id,'EnzymeType':enz_type,'Mutation':mutation,'kcat': float(value) } )\n",
    "    return result"
   ]
  },
  {
   "cell_type": "code",
   "execution_count": 7,
   "id": "93157d524404eaf",
   "metadata": {
    "ExecuteTime": {
     "end_time": "2023-10-10T09:08:04.647698Z",
     "start_time": "2023-10-10T09:07:58.321932Z"
    }
   },
   "outputs": [
    {
     "name": "stdout",
     "output_type": "stream",
     "text": [
      "0 done\n",
      "500 done\n",
      "1000 done\n",
      "1500 done\n",
      "2000 done\n",
      "2500 done\n",
      "3000 done\n",
      "3500 done\n",
      "4000 done\n",
      "4500 done\n",
      "5000 done\n",
      "5500 done\n",
      "6000 done\n",
      "6500 done\n",
      "7000 done\n",
      "7500 done\n"
     ]
    }
   ],
   "source": [
    "result = []\n",
    "idx = 0\n",
    "for ec in brenda_ec_list:\n",
    "    if idx % 500 == 0:\n",
    "        print(str(idx) + ' done')\n",
    "    result += get_entry_kcat( ec )\n",
    "    idx+=1"
   ]
  },
  {
   "cell_type": "code",
   "execution_count": 8,
   "id": "9ad4d5f99e48d580",
   "metadata": {
    "ExecuteTime": {
     "end_time": "2023-10-10T09:08:32.688160Z",
     "start_time": "2023-10-10T09:08:04.654831Z"
    }
   },
   "outputs": [],
   "source": [
    "rawdata_brenda = pd.DataFrame(result)\n",
    "rawdata_brenda = (rawdata_brenda[rawdata_brenda['kcat']>0]).dropna().reset_index().drop(['index'],axis=1)\n",
    "proteinIDs = []\n",
    "for i in range(len(rawdata_brenda['UniProtID'])):\n",
    "    ID = list( rawdata_brenda['UniProtID'] )[i]\n",
    "    proteinIDs.append( ID.split(' ')[0] )\n",
    "rawdata_brenda['UniProtID'] =  proteinIDs  "
   ]
  },
  {
   "cell_type": "code",
   "execution_count": null,
   "id": "50b9c953",
   "metadata": {
    "ExecuteTime": {
     "start_time": "2023-10-10T08:53:49.421881Z"
    }
   },
   "outputs": [
    {
     "name": "stdout",
     "output_type": "stream",
     "text": [
      "0.0020429009193054137% done\n",
      "0.006128702757916241% done\n"
     ]
    }
   ],
   "source": [
    "kcat_brenda = []\n",
    "total = len(rawdata_brenda['sub'])\n",
    "\n",
    "for i in range(len(rawdata_brenda['sub'])):\n",
    "    ec, T, sub, pid, enz_type, muts, kcat = rawdata_brenda.iloc[i]\n",
    "    data={'EC':ec,'Temp':T,'sub':sub,'ProtID':pid,'EnzymeType':enz_type,'Mutation':muts,'kcat':kcat}\n",
    "    data['smiles']=get_smiles( sub )\n",
    "    if data['smiles']  == 'NaN' or data['smiles'] == '':\n",
    "        continue\n",
    "    temp_seq = get_seq( pid )\n",
    "    if temp_seq == 'NaN' or temp_seq == '':\n",
    "        continue\n",
    "    if enz_type == 'WT':\n",
    "        data['seq'] = temp_seq\n",
    "    else:\n",
    "        mut_list = muts.split('/')\n",
    "        if check_mutations(temp_seq, mut_list):\n",
    "            temp_seq = apply_mutations(temp_seq, mut_list)\n",
    "            data['seq'] = temp_seq\n",
    "        else:\n",
    "            continue\n",
    "              \n",
    "    kcat_brenda.append(data)\n",
    "    if i% 50 == 0:\n",
    "        print(str(i/total)+'% done')"
   ]
  },
  {
   "cell_type": "code",
   "execution_count": 9,
   "id": "f0523324",
   "metadata": {
    "ExecuteTime": {
     "end_time": "2023-10-10T11:08:39.559819Z",
     "start_time": "2023-10-10T09:14:09.649056Z"
    }
   },
   "outputs": [
    {
     "name": "stdout",
     "output_type": "stream",
     "text": [
      "0.00% done\n",
      "8.17% done\n",
      "16.34% done\n",
      "24.51% done\n",
      "32.69% done\n",
      "40.86% done\n",
      "49.03% done\n",
      "57.20% done\n",
      "65.37% done\n",
      "73.54% done\n",
      "81.72% done\n",
      "89.89% done\n",
      "98.06% done\n"
     ]
    }
   ],
   "source": [
    "import concurrent.futures\n",
    "\n",
    "# 定义一个处理单个条目的函数\n",
    "def process_entry(i, row):\n",
    "    ec, T, sub, pid, enz_type, muts, kcat = row\n",
    "    data={'EC':ec,'Temp':T,'sub':sub,'ProtID':pid,'EnzymeType':enz_type,'Mutation':muts,'kcat':kcat}\n",
    "\n",
    "    smiles = get_smiles(sub)\n",
    "    if not smiles or smiles == 'NaN':\n",
    "        return None\n",
    "\n",
    "    temp_seq = get_seq(pid)\n",
    "    if not temp_seq or temp_seq == 'NaN':\n",
    "        return None\n",
    "\n",
    "    if enz_type == 'WT':\n",
    "        data['seq'] = temp_seq\n",
    "    else:\n",
    "        mut_list = muts.split('/')\n",
    "        if check_mutations(temp_seq, mut_list):\n",
    "            temp_seq = apply_mutations(temp_seq, mut_list)\n",
    "            data['seq'] = temp_seq\n",
    "        else:\n",
    "            return None\n",
    "\n",
    "    data['smiles'] = smiles\n",
    "    return data\n",
    "\n",
    "# 使用并行处理来加速数据处理\n",
    "kcat_brenda = []\n",
    "total = len(rawdata_brenda)\n",
    "with concurrent.futures.ThreadPoolExecutor() as executor:\n",
    "    futures = [executor.submit(process_entry, i, row) for i, row in rawdata_brenda.iterrows()]\n",
    "    for i, future in enumerate(concurrent.futures.as_completed(futures)):\n",
    "        if i % 2000 == 0:\n",
    "            print(f\"{i/total*100:.2f}% done\")\n",
    "        data = future.result()\n",
    "        if data:\n",
    "            kcat_brenda.append(data)\n"
   ]
  },
  {
   "cell_type": "code",
   "execution_count": 10,
   "outputs": [],
   "source": [
    "raw_kcat_brenda = pd.DataFrame( kcat_brenda )\n",
    "raw_kcat_brenda = raw_kcat_brenda.dropna().reset_index().drop(['index'],axis=1)"
   ],
   "metadata": {
    "collapsed": false,
    "ExecuteTime": {
     "end_time": "2023-10-10T15:35:45.417007Z",
     "start_time": "2023-10-10T15:35:45.295493Z"
    }
   },
   "id": "9c8ccb8a44d8f134"
  },
  {
   "cell_type": "code",
   "execution_count": 12,
   "outputs": [],
   "source": [
    "raw_kcat_brenda.to_csv('../data/raw_kcat_brenda.csv',index = None)"
   ],
   "metadata": {
    "collapsed": false,
    "ExecuteTime": {
     "end_time": "2023-10-10T15:36:27.366857Z",
     "start_time": "2023-10-10T15:36:27.144596Z"
    }
   },
   "id": "af002457dbe57618"
  },
  {
   "cell_type": "markdown",
   "source": [
    "### extract info from sabiork"
   ],
   "metadata": {
    "collapsed": false
   },
   "id": "d85869bf96aec08a"
  },
  {
   "cell_type": "code",
   "execution_count": 19,
   "outputs": [
    {
     "name": "stdout",
     "output_type": "stream",
     "text": [
      "0\n",
      "100\n",
      "200\n",
      "300\n",
      "400\n",
      "500\n",
      "600\n",
      "700\n",
      "800\n",
      "900\n",
      "1000\n",
      "1100\n",
      "1200\n",
      "1300\n",
      "1400\n",
      "1500\n",
      "1600\n",
      "1700\n",
      "1800\n",
      "1900\n",
      "2000\n",
      "2100\n",
      "2200\n",
      "2300\n",
      "2400\n",
      "2500\n",
      "2600\n",
      "2700\n",
      "2800\n",
      "2900\n",
      "3000\n",
      "3100\n",
      "3200\n",
      "3300\n",
      "3400\n",
      "3500\n",
      "3600\n",
      "3700\n",
      "3800\n",
      "3900\n",
      "4000\n",
      "4100\n",
      "4200\n",
      "4300\n",
      "4400\n",
      "4500\n",
      "4600\n",
      "4700\n",
      "4800\n",
      "4900\n",
      "5000\n",
      "5100\n",
      "5200\n",
      "5300\n",
      "5400\n",
      "5500\n",
      "5600\n",
      "5700\n",
      "5800\n",
      "5900\n",
      "6000\n",
      "6100\n",
      "6200\n",
      "6300\n",
      "6400\n",
      "6500\n",
      "6600\n",
      "6700\n",
      "6800\n",
      "6900\n",
      "7000\n",
      "7100\n",
      "7200\n",
      "7300\n",
      "7400\n",
      "7500\n",
      "7600\n",
      "7700\n",
      "7800\n",
      "7900\n",
      "8000\n",
      "8100\n",
      "8200\n"
     ]
    }
   ],
   "source": [
    "# download data from sabiork\n",
    "\n",
    "# Set up session and retries\n",
    "session = requests.Session()\n",
    "retries = Retry(total=5,\n",
    "                backoff_factor=1,\n",
    "                status_forcelist=[502, 503, 504, 429])  # 429 is for Too Many Requests\n",
    "session.mount('http://', HTTPAdapter(max_retries=retries))\n",
    "session.mount('https://', HTTPAdapter(max_retries=retries))\n",
    "\n",
    "f = open('../data/raw_data.txt', 'w')\n",
    "i = 0\n",
    "\n",
    "for ec in ec_list:\n",
    "    query_dict = {\"ECNumber\": '%s' % ec}\n",
    "    query_string = ' AND '.join(['%s:%s' % (k, v) for k, v in query_dict.items()])\n",
    "    query = {\n",
    "        'fields[]': [\n",
    "            'EntryID', 'Substrate', 'EnzymeType', 'PubMedID',\n",
    "            'Organism', 'UniprotID', 'ECNumber', 'Parameter', 'Temperature'\n",
    "        ],\n",
    "        'q': query_string\n",
    "    }\n",
    "\n",
    "    try:\n",
    "        response = session.post(QUERY_URL, params=query)\n",
    "        results = response.text\n",
    "\n",
    "        # Avoid writing headers multiple times\n",
    "        if i > 0:\n",
    "            results = results.replace(\"EntryID\\tSubstrate\\tEnzymeType\\tPubMedID\\tOrganism\\tUniprotID\\tECNumber\\tparameter.type\\tparameter.associatedSpecies\\tparameter.startValue\\tparameter.endValue\\tparameter.standardDeviation\\tparameter.unit\\tTemperature\\n\", '')\n",
    "        f.write(results)\n",
    "\n",
    "    except requests.RequestException as e:\n",
    "        print(f\"Error for EC number {ec}: {e}\")\n",
    "\n",
    "    if i % 100 == 0:\n",
    "        print(i)\n",
    "    i += 1\n",
    "    time.sleep(1)  # Sleep for 1 second\n",
    "\n",
    "f.close()\n"
   ],
   "metadata": {
    "collapsed": false,
    "ExecuteTime": {
     "end_time": "2023-10-11T10:41:40.348142Z",
     "start_time": "2023-10-11T02:35:48.439004Z"
    }
   },
   "id": "52025c07bef4e336"
  },
  {
   "cell_type": "code",
   "execution_count": 20,
   "outputs": [],
   "source": [
    "#unit of kcat is 1/s\n",
    "kcat_uni = []\n",
    "with open('../data/raw_data.txt') as file:\n",
    "    lines = file.readlines()\n",
    "    for l in lines:\n",
    "        l=l.replace('\\n','').strip()\n",
    "        params = l.split('\\t')\n",
    "        if len(params)!=14:\n",
    "            continue\n",
    "        if params[7] != 'kcat':\n",
    "            continue\n",
    "        if params[9] == '':\n",
    "            continue\n",
    "\n",
    "        data = {}\n",
    "        data['Organism']=params[4]\n",
    "        data['UniprotID']=params[5]\n",
    "        data['EC']=params[6]\n",
    "        data['Temperature']=params[13]\n",
    "        if data['UniprotID'] == '-' or data['Temperature']=='-' or data['UniprotID'] == '' or data['Temperature']=='':\n",
    "            continue\n",
    "\n",
    "        if 'mutant' not in params[2]:\n",
    "            enz_type = 'WT'\n",
    "            mutation = 'None'\n",
    "        else:\n",
    "            mut4 = re.findall('[A-Z][0-9][0-9][0-9][0-9][A-Z]',params[2])\n",
    "            mut3 = re.findall('[A-Z][0-9][0-9][0-9][A-Z]',params[2])\n",
    "            mut2 = re.findall('[A-Z][0-9][0-9][A-Z]',params[2])\n",
    "            mut1 = re.findall('[A-Z][0-9][A-Z]',params[2])\n",
    "            mut_list = mut4 + mut3 + mut2 + mut1\n",
    "            if len(mut_list) < 1:\n",
    "                continue\n",
    "            else:\n",
    "                enz_type = 'MUT'\n",
    "                mutation = '/'.join(mut_list)\n",
    "        data['EnzymeType'] = enz_type\n",
    "        data['Mutation'] = mutation\n",
    "        if params[7] == 'kcat':\n",
    "            if params[12]!='s^(-1)':\n",
    "                continue\n",
    "            #remove h2o and h+\n",
    "            substrates = params[1].replace('H2O;','').replace(';H2O','').replace('H+;','').replace(';H+','')\n",
    "            #remove cofactors\n",
    "            cofactors = ['FADH2','FAD','NAD+','NADH']\n",
    "            if ';' in substrates:\n",
    "                for cof in cofactors:\n",
    "                    substrates = substrates.replace(';'+cof,'').replace(cof+';','')\n",
    "\n",
    "            subs = substrates.split(';')\n",
    "\n",
    "            if len(subs) == 1:\n",
    "                data['sub']=subs[0]\n",
    "                data['kcat']=params[9]\n",
    "                data['unit']=params[12]\n",
    "                kcat_uni.append(data)\n",
    "        else:\n",
    "            continue           "
   ],
   "metadata": {
    "collapsed": false,
    "ExecuteTime": {
     "end_time": "2023-10-11T11:03:25.683196Z",
     "start_time": "2023-10-11T11:03:25.298288Z"
    }
   },
   "id": "433ad5c8da79b344"
  },
  {
   "cell_type": "code",
   "execution_count": 21,
   "outputs": [],
   "source": [
    "kcat_table_uni = pd.DataFrame(kcat_uni).dropna()\n",
    "kcat_table_uni = kcat_table_uni.dropna().drop_duplicates().reset_index().drop(['index'],axis=1)"
   ],
   "metadata": {
    "collapsed": false,
    "ExecuteTime": {
     "end_time": "2023-10-11T11:03:55.994373Z",
     "start_time": "2023-10-11T11:03:55.839768Z"
    }
   },
   "id": "8a9c3fa87cbc61c0"
  },
  {
   "cell_type": "markdown",
   "source": [
    "### Process kcat from sabiork"
   ],
   "metadata": {
    "collapsed": false
   },
   "id": "1b48373f305e6244"
  },
  {
   "cell_type": "code",
   "execution_count": 22,
   "outputs": [
    {
     "name": "stdout",
     "output_type": "stream",
     "text": [
      "0.0% done\n",
      "0.10336985734959686% done\n",
      "0.20673971469919372% done\n",
      "0.3101095720487906% done\n",
      "0.41347942939838744% done\n",
      "0.5168492867479842% done\n",
      "0.6202191440975812% done\n",
      "0.723589001447178% done\n",
      "0.8269588587967749% done\n",
      "0.9303287161463717% done\n"
     ]
    }
   ],
   "source": [
    "uni = []\n",
    "total = len(kcat_table_uni['sub'])\n",
    "\n",
    "for i in range(len(kcat_table_uni['sub'])):\n",
    "    if i%1000 == 0:\n",
    "        print( str(i/total)+'% done' )\n",
    "\n",
    "    data={'EC':list(kcat_table_uni['EC'])[i],'Temp':float( list(kcat_table_uni['Temperature'])[i] ),\n",
    "          'kcat':float( list(kcat_table_uni['kcat'])[i]), 'sub':list(kcat_table_uni['sub'])[i],\n",
    "          'ProtID': list(kcat_table_uni['UniprotID'])[i], 'EnzymeType':list(kcat_table_uni['EnzymeType'])[i],\n",
    "          'Mutation':list(kcat_table_uni['Mutation'])[i] }\n",
    "\n",
    "    data['smiles']=get_smiles( list(kcat_table_uni['sub'])[i] )\n",
    "    if data['smiles'] == 'NaN' or data['smiles'] == '':\n",
    "        continue\n",
    "    temp_seq =get_seq( list(kcat_table_uni['UniprotID'])[i] )\n",
    "    if temp_seq == 'NaN' or temp_seq == '':\n",
    "        continue\n",
    "\n",
    "    if data['EnzymeType'] == 'WT':\n",
    "        data['seq'] = temp_seq\n",
    "    else:\n",
    "        mut_list = data['Mutation'].split('/')\n",
    "        if check_mutations(temp_seq, mut_list):\n",
    "            temp_seq = apply_mutations(temp_seq, mut_list)\n",
    "            data['seq'] = temp_seq\n",
    "        else:\n",
    "            continue\n",
    "\n",
    "    uni.append(data)"
   ],
   "metadata": {
    "collapsed": false,
    "ExecuteTime": {
     "end_time": "2023-10-11T21:10:26.694301Z",
     "start_time": "2023-10-11T11:04:39.908643Z"
    }
   },
   "id": "6721d69a87f85586"
  },
  {
   "cell_type": "code",
   "execution_count": 23,
   "outputs": [],
   "source": [
    "uni_table=pd.DataFrame(uni)\n",
    "uni_table = uni_table.dropna().drop_duplicates().reset_index().drop(['index'],axis=1)\n",
    "uni_table.to_csv('../data/raw_kcat_sa.csv',index=None)"
   ],
   "metadata": {
    "collapsed": false,
    "ExecuteTime": {
     "end_time": "2023-10-12T00:59:39.915964Z",
     "start_time": "2023-10-12T00:59:39.785550Z"
    }
   },
   "id": "f9353eac21f5b94b"
  },
  {
   "cell_type": "markdown",
   "source": [
    "### merge kcat data from brenda and sabiork\n",
    "#### check conflicts(pick the largest one), kcat > 0, unique compound-protein pairs"
   ],
   "metadata": {
    "collapsed": false
   },
   "id": "a51afd761c63a43e"
  },
  {
   "cell_type": "code",
   "execution_count": 24,
   "outputs": [
    {
     "name": "stdout",
     "output_type": "stream",
     "text": [
      "16981\n",
      "5842\n",
      "22823\n"
     ]
    }
   ],
   "source": [
    "raw_kcat_brenda = pd.read_csv('../data/raw_kcat_brenda.csv')\n",
    "raw_kcat_brenda = raw_kcat_brenda[['EC','sub', 'ProtID', 'EnzymeType', 'Mutation',\n",
    "                                   'kcat','Temp','smiles', 'seq']]\n",
    "raw_kcat_brenda['source'] = ['brenda' for i in range(len(raw_kcat_brenda['EC']))]\n",
    "print( len(raw_kcat_brenda['EC']) )\n",
    "raw_kcat_sa = pd.read_csv('../data/raw_kcat_sa.csv')\n",
    "raw_kcat_sa = raw_kcat_sa[['EC','sub', 'ProtID', 'EnzymeType', 'Mutation',\n",
    "                           'kcat','Temp','smiles', 'seq']]\n",
    "raw_kcat_sa['source'] = ['sabiork' for i in range(len(raw_kcat_sa['EC']))]\n",
    "print( len(raw_kcat_sa['EC']) )\n",
    "\n",
    "kcat_merge =  (pd.concat([raw_kcat_sa,raw_kcat_brenda]) ).reset_index().drop(['index'],axis=1)\n",
    "print( len(kcat_merge['EC']) )"
   ],
   "metadata": {
    "collapsed": false,
    "ExecuteTime": {
     "end_time": "2023-10-12T01:18:39.435705Z",
     "start_time": "2023-10-12T01:18:39.135217Z"
    }
   },
   "id": "9331828e7d5d475f"
  },
  {
   "cell_type": "code",
   "execution_count": 25,
   "outputs": [
    {
     "name": "stdout",
     "output_type": "stream",
     "text": [
      "18097\n"
     ]
    }
   ],
   "source": [
    "keep_uni = []\n",
    "for i in range( len(kcat_merge['EC']) ):\n",
    "    T, smiles, seq = list(kcat_merge['Temp'])[i], list(kcat_merge['smiles'])[i], list(kcat_merge['seq'])[i]\n",
    "    temp_table = kcat_merge[ (kcat_merge['Temp']==T)&(kcat_merge['smiles']==smiles)&(kcat_merge['seq']==seq)]\n",
    "    temp_table = temp_table.sort_values(by=['kcat'],ascending=False)\n",
    "    keep_uni.append(temp_table.index[0])\n",
    "keep_uni = list(set(keep_uni))\n",
    "kcat_merge = ( kcat_merge.iloc[keep_uni] ).reset_index().drop(['index'],axis=1)\n",
    "print( len(kcat_merge['EC']) )"
   ],
   "metadata": {
    "collapsed": false,
    "ExecuteTime": {
     "end_time": "2023-10-12T01:24:31.670566Z",
     "start_time": "2023-10-12T01:22:11.457725Z"
    }
   },
   "id": "dd00368e81b04f81"
  },
  {
   "cell_type": "code",
   "execution_count": 26,
   "outputs": [],
   "source": [
    "TC_list = list(kcat_merge['Temp'])\n",
    "kcat_merge['Inv_Temp'] = [ 1/float(T+273.15) for T in TC_list]"
   ],
   "metadata": {
    "collapsed": false,
    "ExecuteTime": {
     "end_time": "2023-10-12T01:46:08.884609Z",
     "start_time": "2023-10-12T01:46:08.855341Z"
    }
   },
   "id": "c10a2a059debb70c"
  },
  {
   "cell_type": "code",
   "execution_count": 27,
   "outputs": [
    {
     "data": {
      "text/plain": "        EC           sub  ProtID EnzymeType Mutation        kcat  Temp  \\\n0  1.1.1.1       Ethanol  P49384         WT      NaN   408.33330  25.0   \n1  1.1.1.1  Acetaldehyde  P49384         WT      NaN  1143.33300  25.0   \n2  1.1.1.1     1-Butanol  P06757         WT      NaN    14.33333  25.0   \n3  1.1.1.1       Butanal  P06757         WT      NaN   156.00000  25.0   \n4  1.1.1.1     1-Octanal  P06757         WT      NaN   390.00000  25.0   \n\n   Inv_Temp      smiles                                                seq  \\\n0  0.003354         CCO  MLRLTSARSIVSPLRKGAFGSIRTLATSVPETQKGVIFYENGGKLE...   \n1  0.003354        CC=O  MLRLTSARSIVSPLRKGAFGSIRTLATSVPETQKGVIFYENGGKLE...   \n2  0.003354       CCCCO  MSTAGKVIKCKAAVLWEPHKPFTIEDIEVAPPKAHEVRIKMVATGV...   \n3  0.003354      CCCC=O  MSTAGKVIKCKAAVLWEPHKPFTIEDIEVAPPKAHEVRIKMVATGV...   \n4  0.003354  CCCCCCCC=O  MSTAGKVIKCKAAVLWEPHKPFTIEDIEVAPPKAHEVRIKMVATGV...   \n\n    source  \n0  sabiork  \n1  sabiork  \n2  sabiork  \n3  sabiork  \n4  sabiork  ",
      "text/html": "<div>\n<style scoped>\n    .dataframe tbody tr th:only-of-type {\n        vertical-align: middle;\n    }\n\n    .dataframe tbody tr th {\n        vertical-align: top;\n    }\n\n    .dataframe thead th {\n        text-align: right;\n    }\n</style>\n<table border=\"1\" class=\"dataframe\">\n  <thead>\n    <tr style=\"text-align: right;\">\n      <th></th>\n      <th>EC</th>\n      <th>sub</th>\n      <th>ProtID</th>\n      <th>EnzymeType</th>\n      <th>Mutation</th>\n      <th>kcat</th>\n      <th>Temp</th>\n      <th>Inv_Temp</th>\n      <th>smiles</th>\n      <th>seq</th>\n      <th>source</th>\n    </tr>\n  </thead>\n  <tbody>\n    <tr>\n      <th>0</th>\n      <td>1.1.1.1</td>\n      <td>Ethanol</td>\n      <td>P49384</td>\n      <td>WT</td>\n      <td>NaN</td>\n      <td>408.33330</td>\n      <td>25.0</td>\n      <td>0.003354</td>\n      <td>CCO</td>\n      <td>MLRLTSARSIVSPLRKGAFGSIRTLATSVPETQKGVIFYENGGKLE...</td>\n      <td>sabiork</td>\n    </tr>\n    <tr>\n      <th>1</th>\n      <td>1.1.1.1</td>\n      <td>Acetaldehyde</td>\n      <td>P49384</td>\n      <td>WT</td>\n      <td>NaN</td>\n      <td>1143.33300</td>\n      <td>25.0</td>\n      <td>0.003354</td>\n      <td>CC=O</td>\n      <td>MLRLTSARSIVSPLRKGAFGSIRTLATSVPETQKGVIFYENGGKLE...</td>\n      <td>sabiork</td>\n    </tr>\n    <tr>\n      <th>2</th>\n      <td>1.1.1.1</td>\n      <td>1-Butanol</td>\n      <td>P06757</td>\n      <td>WT</td>\n      <td>NaN</td>\n      <td>14.33333</td>\n      <td>25.0</td>\n      <td>0.003354</td>\n      <td>CCCCO</td>\n      <td>MSTAGKVIKCKAAVLWEPHKPFTIEDIEVAPPKAHEVRIKMVATGV...</td>\n      <td>sabiork</td>\n    </tr>\n    <tr>\n      <th>3</th>\n      <td>1.1.1.1</td>\n      <td>Butanal</td>\n      <td>P06757</td>\n      <td>WT</td>\n      <td>NaN</td>\n      <td>156.00000</td>\n      <td>25.0</td>\n      <td>0.003354</td>\n      <td>CCCC=O</td>\n      <td>MSTAGKVIKCKAAVLWEPHKPFTIEDIEVAPPKAHEVRIKMVATGV...</td>\n      <td>sabiork</td>\n    </tr>\n    <tr>\n      <th>4</th>\n      <td>1.1.1.1</td>\n      <td>1-Octanal</td>\n      <td>P06757</td>\n      <td>WT</td>\n      <td>NaN</td>\n      <td>390.00000</td>\n      <td>25.0</td>\n      <td>0.003354</td>\n      <td>CCCCCCCC=O</td>\n      <td>MSTAGKVIKCKAAVLWEPHKPFTIEDIEVAPPKAHEVRIKMVATGV...</td>\n      <td>sabiork</td>\n    </tr>\n  </tbody>\n</table>\n</div>"
     },
     "execution_count": 27,
     "metadata": {},
     "output_type": "execute_result"
    }
   ],
   "source": [
    "kcat_merge = kcat_merge[ ['EC', 'sub', 'ProtID', 'EnzymeType', 'Mutation', 'kcat', 'Temp', 'Inv_Temp',\n",
    "                          'smiles', 'seq', 'source'] ]\n",
    "kcat_merge.head()"
   ],
   "metadata": {
    "collapsed": false,
    "ExecuteTime": {
     "end_time": "2023-10-12T01:46:17.322296Z",
     "start_time": "2023-10-12T01:46:17.271229Z"
    }
   },
   "id": "122c2258ea85c17f"
  },
  {
   "cell_type": "markdown",
   "source": [
    "### Remove metal ions and smiles with isolated parts from entries"
   ],
   "metadata": {
    "collapsed": false
   },
   "id": "f3a70cf6899babf2"
  },
  {
   "cell_type": "code",
   "execution_count": 28,
   "outputs": [],
   "source": [
    "ions = ['[Fe+3]','[Fe+2]','[Zn+2]','[Cu+2]','[K+]','[Ca+2]','[Hg+2]','[Mg+2]','[Mn+2]','[Mg+2]','[S-2]',\n",
    "        '[Cd+2]','[Co+2]','[Ag+]','[Cr+6]','[Cs+]','[F-]','[Br-]','[Cl-]','[I-]','[Na+]','[Ni+2]','[No]','[Mo]']\n",
    "rm_ind = []\n",
    "for i in range( len(kcat_merge['smiles']) ):\n",
    "    if '.' in list( kcat_merge['smiles'] )[i]:\n",
    "        rm_ind.append(i)\n",
    "        continue\n",
    "\n",
    "    for ion in ions:\n",
    "        if ion in list( kcat_merge['smiles'] )[i]:\n",
    "            rm_ind.append(i)\n",
    "rm_ind = list(set(rm_ind))\n",
    "kcat_merge = ( kcat_merge.drop(rm_ind) ).reset_index().drop(['index'],axis=1) "
   ],
   "metadata": {
    "collapsed": false,
    "ExecuteTime": {
     "end_time": "2023-10-12T01:56:03.818973Z",
     "start_time": "2023-10-12T01:49:40.060930Z"
    }
   },
   "id": "eee8f07f74a8098d"
  },
  {
   "cell_type": "code",
   "execution_count": 29,
   "outputs": [
    {
     "name": "stdout",
     "output_type": "stream",
     "text": [
      "17914\n"
     ]
    }
   ],
   "source": [
    "kcat_merge =( kcat_merge[kcat_merge['kcat']>0]).reset_index().drop(['index'],axis=1)\n",
    "print( len(kcat_merge['EC']) )"
   ],
   "metadata": {
    "collapsed": false,
    "ExecuteTime": {
     "end_time": "2023-10-12T02:13:28.197020Z",
     "start_time": "2023-10-12T02:13:28.160697Z"
    }
   },
   "id": "6788a9162675afd6"
  },
  {
   "cell_type": "code",
   "execution_count": 30,
   "outputs": [],
   "source": [
    "kcat_merge.to_csv('../data/kcat_merge.csv',index=None)"
   ],
   "metadata": {
    "collapsed": false,
    "ExecuteTime": {
     "end_time": "2023-10-12T02:14:11.546735Z",
     "start_time": "2023-10-12T02:14:11.337428Z"
    }
   },
   "id": "71546a09ac608701"
  },
  {
   "cell_type": "markdown",
   "source": [
    "### Assign enzyme pathways"
   ],
   "metadata": {
    "collapsed": false
   },
   "id": "3a4232f4592a2c7d"
  },
  {
   "cell_type": "code",
   "execution_count": 31,
   "outputs": [
    {
     "data": {
      "text/plain": "        EC           sub  ProtID EnzymeType Mutation        kcat  Temp  \\\n0  1.1.1.1       Ethanol  P49384         WT      NaN   408.33330  25.0   \n1  1.1.1.1  Acetaldehyde  P49384         WT      NaN  1143.33300  25.0   \n2  1.1.1.1     1-Butanol  P06757         WT      NaN    14.33333  25.0   \n3  1.1.1.1       Butanal  P06757         WT      NaN   156.00000  25.0   \n4  1.1.1.1     1-Octanal  P06757         WT      NaN   390.00000  25.0   \n\n   Temp_K  Inv_Temp      smiles  \\\n0  298.15  0.003354         CCO   \n1  298.15  0.003354        CC=O   \n2  298.15  0.003354       CCCCO   \n3  298.15  0.003354      CCCC=O   \n4  298.15  0.003354  CCCCCCCC=O   \n\n                                                 seq   source  \n0  MLRLTSARSIVSPLRKGAFGSIRTLATSVPETQKGVIFYENGGKLE...  sabiork  \n1  MLRLTSARSIVSPLRKGAFGSIRTLATSVPETQKGVIFYENGGKLE...  sabiork  \n2  MSTAGKVIKCKAAVLWEPHKPFTIEDIEVAPPKAHEVRIKMVATGV...  sabiork  \n3  MSTAGKVIKCKAAVLWEPHKPFTIEDIEVAPPKAHEVRIKMVATGV...  sabiork  \n4  MSTAGKVIKCKAAVLWEPHKPFTIEDIEVAPPKAHEVRIKMVATGV...  sabiork  ",
      "text/html": "<div>\n<style scoped>\n    .dataframe tbody tr th:only-of-type {\n        vertical-align: middle;\n    }\n\n    .dataframe tbody tr th {\n        vertical-align: top;\n    }\n\n    .dataframe thead th {\n        text-align: right;\n    }\n</style>\n<table border=\"1\" class=\"dataframe\">\n  <thead>\n    <tr style=\"text-align: right;\">\n      <th></th>\n      <th>EC</th>\n      <th>sub</th>\n      <th>ProtID</th>\n      <th>EnzymeType</th>\n      <th>Mutation</th>\n      <th>kcat</th>\n      <th>Temp</th>\n      <th>Temp_K</th>\n      <th>Inv_Temp</th>\n      <th>smiles</th>\n      <th>seq</th>\n      <th>source</th>\n    </tr>\n  </thead>\n  <tbody>\n    <tr>\n      <th>0</th>\n      <td>1.1.1.1</td>\n      <td>Ethanol</td>\n      <td>P49384</td>\n      <td>WT</td>\n      <td>NaN</td>\n      <td>408.33330</td>\n      <td>25.0</td>\n      <td>298.15</td>\n      <td>0.003354</td>\n      <td>CCO</td>\n      <td>MLRLTSARSIVSPLRKGAFGSIRTLATSVPETQKGVIFYENGGKLE...</td>\n      <td>sabiork</td>\n    </tr>\n    <tr>\n      <th>1</th>\n      <td>1.1.1.1</td>\n      <td>Acetaldehyde</td>\n      <td>P49384</td>\n      <td>WT</td>\n      <td>NaN</td>\n      <td>1143.33300</td>\n      <td>25.0</td>\n      <td>298.15</td>\n      <td>0.003354</td>\n      <td>CC=O</td>\n      <td>MLRLTSARSIVSPLRKGAFGSIRTLATSVPETQKGVIFYENGGKLE...</td>\n      <td>sabiork</td>\n    </tr>\n    <tr>\n      <th>2</th>\n      <td>1.1.1.1</td>\n      <td>1-Butanol</td>\n      <td>P06757</td>\n      <td>WT</td>\n      <td>NaN</td>\n      <td>14.33333</td>\n      <td>25.0</td>\n      <td>298.15</td>\n      <td>0.003354</td>\n      <td>CCCCO</td>\n      <td>MSTAGKVIKCKAAVLWEPHKPFTIEDIEVAPPKAHEVRIKMVATGV...</td>\n      <td>sabiork</td>\n    </tr>\n    <tr>\n      <th>3</th>\n      <td>1.1.1.1</td>\n      <td>Butanal</td>\n      <td>P06757</td>\n      <td>WT</td>\n      <td>NaN</td>\n      <td>156.00000</td>\n      <td>25.0</td>\n      <td>298.15</td>\n      <td>0.003354</td>\n      <td>CCCC=O</td>\n      <td>MSTAGKVIKCKAAVLWEPHKPFTIEDIEVAPPKAHEVRIKMVATGV...</td>\n      <td>sabiork</td>\n    </tr>\n    <tr>\n      <th>4</th>\n      <td>1.1.1.1</td>\n      <td>1-Octanal</td>\n      <td>P06757</td>\n      <td>WT</td>\n      <td>NaN</td>\n      <td>390.00000</td>\n      <td>25.0</td>\n      <td>298.15</td>\n      <td>0.003354</td>\n      <td>CCCCCCCC=O</td>\n      <td>MSTAGKVIKCKAAVLWEPHKPFTIEDIEVAPPKAHEVRIKMVATGV...</td>\n      <td>sabiork</td>\n    </tr>\n  </tbody>\n</table>\n</div>"
     },
     "execution_count": 31,
     "metadata": {},
     "output_type": "execute_result"
    }
   ],
   "source": [
    "kcat_merge = pd.read_csv('../data/kcat_merge.csv')\n",
    "TC_list = list(kcat_merge['Temp'])\n",
    "kcat_merge['Temp_K'] = [ float(T+273.15) for T in TC_list]\n",
    "kcat_merge = kcat_merge[ ['EC', 'sub', 'ProtID', 'EnzymeType', 'Mutation', 'kcat', 'Temp', 'Temp_K',\n",
    "                          'Inv_Temp', 'smiles', 'seq', 'source']]\n",
    "EC = [x.replace('()','').strip() for x in list(kcat_merge['EC'])]\n",
    "kcat_merge['EC'] = EC\n",
    "kcat_merge.head()"
   ],
   "metadata": {
    "collapsed": false,
    "ExecuteTime": {
     "end_time": "2023-10-12T02:16:06.202276Z",
     "start_time": "2023-10-12T02:16:06.036963Z"
    }
   },
   "id": "1e4e1e81eaced665"
  },
  {
   "cell_type": "code",
   "execution_count": 33,
   "outputs": [
    {
     "name": "stdout",
     "output_type": "stream",
     "text": [
      "['Intermediate' 'Primary - Carbohydrate & Energy Metabolism'\n",
      " 'Primary - amino acids, fatty acids and nucleotides' 'Secondary'\n",
      " 'Secondary_other' 'x']\n"
     ]
    }
   ],
   "source": [
    "ec_module = pd.read_csv('../data/module_ec.txt',sep='\\t',header=None)\n",
    "ec_module = ec_module.drop([0],axis=1)\n",
    "ec_module = ec_module.rename(columns = {1:'EC',2:'Pathway'})\n",
    "print(np.unique(ec_module['Pathway']) )\n",
    "enz_paths = {'Primary':set(),'Secondary':set()}\n",
    "for i in range( len(ec_module['EC']) ):\n",
    "    ec = list(ec_module['EC'])[i].replace('EC','').strip()\n",
    "    if 'Primary' in list(ec_module['Pathway'])[i]:\n",
    "        enz_paths['Primary'].add(ec)\n",
    "    else:\n",
    "        enz_paths['Secondary'].add(ec)"
   ],
   "metadata": {
    "collapsed": false,
    "ExecuteTime": {
     "end_time": "2023-10-12T03:06:51.257013Z",
     "start_time": "2023-10-12T03:06:50.757431Z"
    }
   },
   "id": "5374c5f67a886ab8"
  },
  {
   "cell_type": "code",
   "execution_count": 34,
   "outputs": [
    {
     "ename": "ModuleNotFoundError",
     "evalue": "No module named 'matplotlib_venn'",
     "output_type": "error",
     "traceback": [
      "\u001B[0;31m---------------------------------------------------------------------------\u001B[0m",
      "\u001B[0;31mModuleNotFoundError\u001B[0m                       Traceback (most recent call last)",
      "Cell \u001B[0;32mIn[34], line 1\u001B[0m\n\u001B[0;32m----> 1\u001B[0m \u001B[38;5;28;01mfrom\u001B[39;00m \u001B[38;5;21;01mmatplotlib_venn\u001B[39;00m \u001B[38;5;28;01mimport\u001B[39;00m venn2\n\u001B[1;32m      2\u001B[0m venn2([enz_paths[\u001B[38;5;124m'\u001B[39m\u001B[38;5;124mPrimary\u001B[39m\u001B[38;5;124m'\u001B[39m],enz_paths[\u001B[38;5;124m'\u001B[39m\u001B[38;5;124mSecondary\u001B[39m\u001B[38;5;124m'\u001B[39m]], [\u001B[38;5;124m'\u001B[39m\u001B[38;5;124mPrimary\u001B[39m\u001B[38;5;124m'\u001B[39m,\u001B[38;5;124m'\u001B[39m\u001B[38;5;124mSecondary\u001B[39m\u001B[38;5;124m'\u001B[39m])\n",
      "\u001B[0;31mModuleNotFoundError\u001B[0m: No module named 'matplotlib_venn'"
     ]
    }
   ],
   "source": [
    "from matplotlib_venn import venn2\n",
    "venn2([enz_paths['Primary'],enz_paths['Secondary']], ['Primary','Secondary'])"
   ],
   "metadata": {
    "collapsed": false,
    "ExecuteTime": {
     "end_time": "2023-10-12T03:09:34.335935Z",
     "start_time": "2023-10-12T03:09:34.291367Z"
    }
   },
   "id": "79b0cb3ffccb15ed"
  },
  {
   "cell_type": "code",
   "execution_count": null,
   "outputs": [],
   "source": [],
   "metadata": {
    "collapsed": false
   },
   "id": "ca6d59ac98e23760"
  }
 ],
 "metadata": {
  "kernelspec": {
   "display_name": "Python 3 (ipykernel)",
   "language": "python",
   "name": "python3"
  },
  "language_info": {
   "codemirror_mode": {
    "name": "ipython",
    "version": 3
   },
   "file_extension": ".py",
   "mimetype": "text/x-python",
   "name": "python",
   "nbconvert_exporter": "python",
   "pygments_lexer": "ipython3",
   "version": "3.11.5"
  }
 },
 "nbformat": 4,
 "nbformat_minor": 5
}
