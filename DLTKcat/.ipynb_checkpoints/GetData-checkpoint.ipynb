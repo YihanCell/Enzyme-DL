{
 "cells": [
  {
   "cell_type": "code",
   "execution_count": 1,
   "id": "initial_id",
   "metadata": {
    "ExecuteTime": {
     "end_time": "2023-10-10T01:33:05.882868Z",
     "start_time": "2023-10-10T01:33:05.243780Z"
    },
    "collapsed": true
   },
   "outputs": [],
   "source": [
    "import requests\n",
    "import numpy as np\n",
    "import pandas as pd\n",
    "from pubchempy import Compound, get_compounds\n",
    "from matplotlib import pyplot as plt\n",
    "import seaborn as sns\n",
    "from urllib import request\n",
    "from brendapyrser import BRENDA\n",
    "import html\n",
    "import pickle\n",
    "from math import exp\n",
    "import random\n",
    "import re\n",
    "from rdkit.Chem import AllChem\n",
    "from rdkit.Chem import DataStructs"
   ]
  },
  {
   "cell_type": "code",
   "execution_count": 5,
   "id": "da962570bb7fdf45",
   "metadata": {
    "ExecuteTime": {
     "end_time": "2023-10-10T01:52:43.493294Z",
     "start_time": "2023-10-10T01:52:29.971164Z"
    }
   },
   "outputs": [],
   "source": [
    "brenda = BRENDA('../local_data/brenda_2023_1.txt')"
   ]
  },
  {
   "cell_type": "code",
   "execution_count": 3,
   "id": "8dc4ff04742b5259",
   "metadata": {
    "ExecuteTime": {
     "end_time": "2023-10-10T01:33:12.342420Z",
     "start_time": "2023-10-10T01:33:12.336676Z"
    }
   },
   "outputs": [],
   "source": [
    "def get_smiles(substrate):\n",
    "    try :\n",
    "        url = 'https://pubchem.ncbi.nlm.nih.gov/rest/pug/compound/name/%s/property/CanonicalSMILES/TXT'%substrate\n",
    "        req = requests.get(url, timeout=20)\n",
    "        if req.status_code != 200:\n",
    "            smiles = 'NaN'\n",
    "        else:\n",
    "            smiles = req.content.splitlines()[0].decode()\n",
    "    except :\n",
    "        smiles = 'NaN'\n",
    "    return smiles\n",
    "\n",
    "def get_seq(ID):\n",
    "    url = \"https://www.uniprot.org/uniprot/%s.fasta\" % ID\n",
    "    try :\n",
    "        data = requests.get(url, timeout=20)\n",
    "        if data.status_code != 200:\n",
    "            seq = 'NaN'\n",
    "        else:\n",
    "            seq =  \"\".join(data.text.split(\"\\n\")[1:])\n",
    "    except :\n",
    "        seq = 'NaN'\n",
    "    return seq\n",
    "\n",
    "def check_mutations(seq, mut_list):\n",
    "    no_error = True\n",
    "    for mut in mut_list:\n",
    "        ind = int(mut[1:-1])-1\n",
    "        old = mut[0].upper()\n",
    "        if (ind > len(seq)-1) or (seq[ind] != old):\n",
    "            no_error = False\n",
    "            break\n",
    "    return no_error\n",
    "\n",
    "def apply_mutations(seq, mut_list):\n",
    "    mut_seq = seq\n",
    "    for mut in mut_list:\n",
    "        ind = int(mut[1:-1])-1\n",
    "        new = mut[-1].upper()\n",
    "        temp_list = list(mut_seq)\n",
    "        temp_list[ind] = new\n",
    "        mut_seq = ''.join(temp_list)\n",
    "    return mut_seq"
   ]
  },
  {
   "cell_type": "code",
   "execution_count": 6,
   "id": "68ce0227a393f91b",
   "metadata": {
    "ExecuteTime": {
     "end_time": "2023-10-10T01:52:50.764747Z",
     "start_time": "2023-10-10T01:52:50.736213Z"
    }
   },
   "outputs": [
    {
     "name": "stdout",
     "output_type": "stream",
     "text": [
      "7832\n"
     ]
    }
   ],
   "source": [
    "brenda_ec_list = []\n",
    "for rxn in brenda.reactions:\n",
    "    brenda_ec_list.append( rxn.ec_number )\n",
    "brenda_ec_list = list(set(brenda_ec_list))\n",
    "print(len(brenda_ec_list))"
   ]
  },
  {
   "cell_type": "code",
   "execution_count": 7,
   "id": "8117722b645184c7",
   "metadata": {
    "ExecuteTime": {
     "end_time": "2023-10-10T02:12:42.140774Z",
     "start_time": "2023-10-10T02:12:42.099773Z"
    }
   },
   "outputs": [
    {
     "name": "stdout",
     "output_type": "stream",
     "text": [
      "8226\n"
     ]
    }
   ],
   "source": [
    "QUERY_URL = 'http://sabiork.h-its.org/sabioRestWebServices/kineticlawsExportTsv'\n",
    "\n",
    "with open('../local_data/enzyme.dat', 'r') as outfile :\n",
    "    lines = outfile.readlines()\n",
    "\n",
    "ec_list = []\n",
    "for line in lines :\n",
    "    if line.startswith('ID') :\n",
    "        ec = line.strip().split('  ')[1]\n",
    "        ec_list.append(ec.strip())\n",
    "# print(ec_list)\n",
    "print(len(ec_list))"
   ]
  },
  {
   "cell_type": "markdown",
   "id": "abac9ecf7b6a9df8",
   "metadata": {},
   "source": [
    "### Download kcat from Brenda"
   ]
  },
  {
   "cell_type": "code",
   "execution_count": 8,
   "id": "c71f7a5f038f941c",
   "metadata": {
    "ExecuteTime": {
     "end_time": "2023-10-10T02:14:28.764081Z",
     "start_time": "2023-10-10T02:14:28.760115Z"
    }
   },
   "outputs": [],
   "source": [
    "def get_entry_kcat( ec ):\n",
    "    r = brenda.reactions.get_by_id(ec)\n",
    "    all_data = r.Kcatvalues\n",
    "    result = []\n",
    "    for sub in all_data.keys():\n",
    "        sub_data = all_data[sub]\n",
    "        for entry in sub_data:\n",
    "            if ('Â°C' not in entry['meta'] ) or ( '#' not in entry['meta']) \\\n",
    "                    or (';' in entry['meta']) or ('specified' in entry['meta'] ):\n",
    "                continue\n",
    "            else:\n",
    "                value = entry['value']\n",
    "                temperature = html.unescape( entry['meta'].split('Â°C')[0] ) [-2:]\n",
    "                try :\n",
    "                    temperature = float(temperature)\n",
    "                except:\n",
    "                    continue\n",
    "\n",
    "                if 'mutant' not in entry['meta']:\n",
    "                    enz_type = 'WT'\n",
    "                    mutation = 'None'\n",
    "                else:\n",
    "                    mut4 = re.findall('[A-Z][0-9][0-9][0-9][0-9][A-Z]',entry['meta'])\n",
    "                    mut3 = re.findall('[A-Z][0-9][0-9][0-9][A-Z]',entry['meta'])\n",
    "                    mut2 = re.findall('[A-Z][0-9][0-9][A-Z]',entry['meta'])\n",
    "                    mut1 = re.findall('[A-Z][0-9][A-Z]',entry['meta'])\n",
    "                    mut_list = mut4 + mut3 + mut2 + mut1\n",
    "                    if len(mut_list) < 1:\n",
    "                        continue\n",
    "                    else:\n",
    "                        enz_type = 'MUT'\n",
    "                        mutation = '/'.join(mut_list)\n",
    "\n",
    "                p_ref = entry['meta'].split('#')[1].strip()\n",
    "                if ',' in p_ref:\n",
    "                    p_ref_list = p_ref.split(',')\n",
    "                else:\n",
    "                    p_ref_list = [ p_ref ]\n",
    "                p_ids = []\n",
    "                for ref in p_ref_list:\n",
    "                    p_ids.append( r.proteins[ref]['proteinID']  )\n",
    "\n",
    "                for p_id in p_ids:\n",
    "                    if p_id == '':\n",
    "                        continue\n",
    "                    else:\n",
    "                        result.append( {'EC':ec,'temperature':float(temperature),'sub': sub,\n",
    "                                        'UniProtID':p_id,'EnzymeType':enz_type,'Mutation':mutation,'kcat': float(value) } )\n",
    "    return result"
   ]
  },
  {
   "cell_type": "code",
   "execution_count": 17,
   "id": "93157d524404eaf",
   "metadata": {
    "ExecuteTime": {
     "end_time": "2023-10-10T02:33:57.886873Z",
     "start_time": "2023-10-10T02:33:57.881084Z"
    }
   },
   "outputs": [
    {
     "name": "stdout",
     "output_type": "stream",
     "text": [
      "0 done\n",
      "500 done\n",
      "1000 done\n",
      "1500 done\n",
      "2000 done\n",
      "2500 done\n",
      "3000 done\n",
      "3500 done\n",
      "4000 done\n",
      "4500 done\n",
      "5000 done\n",
      "5500 done\n",
      "6000 done\n",
      "6500 done\n",
      "7000 done\n",
      "7500 done\n"
     ]
    }
   ],
   "source": [
    "result = []\n",
    "idx = 0\n",
    "for ec in brenda_ec_list:\n",
    "    if idx % 500 == 0:\n",
    "        print(str(idx) + ' done')\n",
    "    result += get_entry_kcat( ec )\n",
    "    idx+=1"
   ]
  },
  {
   "cell_type": "code",
   "execution_count": 18,
   "id": "9ad4d5f99e48d580",
   "metadata": {},
   "outputs": [],
   "source": [
    "rawdata_brenda = pd.DataFrame(result)\n",
    "rawdata_brenda = (rawdata_brenda[rawdata_brenda['kcat']>0]).dropna().reset_index().drop(['index'],axis=1)\n",
    "proteinIDs = []\n",
    "for i in range(len(rawdata_brenda['UniProtID'])):\n",
    "    ID = list( rawdata_brenda['UniProtID'] )[i]\n",
    "    proteinIDs.append( ID.split(' ')[0] )\n",
    "rawdata_brenda['UniProtID'] =  proteinIDs  "
   ]
  },
  {
   "cell_type": "code",
   "execution_count": null,
   "id": "50b9c953",
   "metadata": {},
   "outputs": [],
   "source": [
    "kcat_brenda = []\n",
    "total = len(rawdata_brenda['sub'])\n",
    "\n",
    "for i in range(len(rawdata_brenda['sub'])):\n",
    "    ec, T, sub, pid, enz_type, muts, kcat = rawdata_brenda.iloc[i]\n",
    "    data={'EC':ec,'Temp':T,'sub':sub,'ProtID':pid,'EnzymeType':enz_type,'Mutation':muts,'kcat':kcat}\n",
    "    data['smiles']=get_smiles( sub )\n",
    "    if data['smiles']  == 'NaN' or data['smiles'] == '':\n",
    "        continue\n",
    "    temp_seq = get_seq( pid )\n",
    "    if temp_seq == 'NaN' or temp_seq == '':\n",
    "        continue\n",
    "    if enz_type == 'WT':\n",
    "        data['seq'] = temp_seq\n",
    "    else:\n",
    "        mut_list = muts.split('/')\n",
    "        if check_mutations(temp_seq, mut_list):\n",
    "            temp_seq = apply_mutations(temp_seq, mut_list)\n",
    "            data['seq'] = temp_seq\n",
    "        else:\n",
    "            continue\n",
    "              \n",
    "    kcat_brenda.append(data)\n",
    "    if i%100 == 0:\n",
    "        print(str(i/total)+'% done')"
   ]
  },
  {
   "cell_type": "code",
   "execution_count": null,
   "id": "f0523324",
   "metadata": {},
   "outputs": [],
   "source": []
  }
 ],
 "metadata": {
  "kernelspec": {
   "display_name": "Python 3 (ipykernel)",
   "language": "python",
   "name": "python3"
  },
  "language_info": {
   "codemirror_mode": {
    "name": "ipython",
    "version": 3
   },
   "file_extension": ".py",
   "mimetype": "text/x-python",
   "name": "python",
   "nbconvert_exporter": "python",
   "pygments_lexer": "ipython3",
   "version": "3.11.5"
  }
 },
 "nbformat": 4,
 "nbformat_minor": 5
}
